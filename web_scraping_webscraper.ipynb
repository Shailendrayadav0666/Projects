{
 "cells": [
  {
   "cell_type": "code",
   "execution_count": 1,
   "metadata": {},
   "outputs": [],
   "source": [
    "import selenium"
   ]
  },
  {
   "cell_type": "code",
   "execution_count": 2,
   "metadata": {},
   "outputs": [],
   "source": [
    "from selenium import webdriver as wb\n"
   ]
  },
  {
   "cell_type": "code",
   "execution_count": 3,
   "metadata": {
    "scrolled": false
   },
   "outputs": [],
   "source": [
    "webd=wb.Chrome(executable_path='D:\\chromedriver.exe')\n",
    "webd.get('https://webscraper.io/test-sites/e-commerce/static')"
   ]
  },
  {
   "cell_type": "code",
   "execution_count": 4,
   "metadata": {},
   "outputs": [],
   "source": [
    "clickobj=webd.find_element_by_xpath('//*[@id=\"side-menu\"]/li[2]/a').click()"
   ]
  },
  {
   "cell_type": "code",
   "execution_count": 5,
   "metadata": {},
   "outputs": [],
   "source": [
    "webd.find_element_by_xpath('//*[@id=\"side-menu\"]/li[2]/ul/li[1]/a').click()"
   ]
  },
  {
   "cell_type": "code",
   "execution_count": 6,
   "metadata": {},
   "outputs": [],
   "source": [
    "productinfolist=webd.find_elements_by_class_name('thumbnail')"
   ]
  },
  {
   "cell_type": "code",
   "execution_count": 7,
   "metadata": {},
   "outputs": [],
   "source": [
    "ppp=productinfolist[0]"
   ]
  },
  {
   "cell_type": "code",
   "execution_count": 8,
   "metadata": {},
   "outputs": [],
   "source": [
    "ppp1=ppp.find_elements_by_tag_name('h4')[-1]\n"
   ]
  },
  {
   "cell_type": "code",
   "execution_count": 9,
   "metadata": {},
   "outputs": [
    {
     "data": {
      "text/plain": [
       "<selenium.webdriver.remote.webelement.WebElement (session=\"2b3277a8199b65bfe1a043a6ec2be67b\", element=\"1e9c3ea5-7055-4c3a-844e-cdceb8c86b8d\")>"
      ]
     },
     "execution_count": 9,
     "metadata": {},
     "output_type": "execute_result"
    }
   ],
   "source": [
    "pp2=ppp1.find_element_by_tag_name('a')\n",
    "pp2"
   ]
  },
  {
   "cell_type": "code",
   "execution_count": 10,
   "metadata": {},
   "outputs": [
    {
     "data": {
      "text/plain": [
       "'https://webscraper.io/test-sites/e-commerce/static/product/516'"
      ]
     },
     "execution_count": 10,
     "metadata": {},
     "output_type": "execute_result"
    }
   ],
   "source": [
    "pp2.get_property('href')"
   ]
  },
  {
   "cell_type": "code",
   "execution_count": 11,
   "metadata": {},
   "outputs": [],
   "source": [
    "listoflinks=[]\n",
    "for el in productinfolist:\n",
    "    ppp1=el.find_elements_by_tag_name('h4')[-1]\n",
    "    pp2=ppp1.find_element_by_tag_name('a')\n",
    "    listoflinks.append(pp2.get_property('href'))\n",
    "    "
   ]
  },
  {
   "cell_type": "code",
   "execution_count": 12,
   "metadata": {},
   "outputs": [
    {
     "data": {
      "text/plain": [
       "'https://webscraper.io/test-sites/e-commerce/static/product/516'"
      ]
     },
     "execution_count": 12,
     "metadata": {},
     "output_type": "execute_result"
    }
   ],
   "source": [
    "listoflinks[0]"
   ]
  },
  {
   "cell_type": "code",
   "execution_count": 13,
   "metadata": {},
   "outputs": [],
   "source": [
    "listoflinks=[]\n",
    "condition=True\n",
    "while condition:\n",
    "    productinfolist=webd.find_elements_by_class_name('thumbnail')\n",
    "    for el in productinfolist:\n",
    "        ppp1=el.find_elements_by_tag_name('h4')[-1]\n",
    "        pp2=ppp1.find_element_by_tag_name('a')\n",
    "        listoflinks.append(pp2.get_property('href'))\n",
    "    try:\n",
    "        webd.find_elements_by_class_name('page-link')[-1].click()\n",
    "    except:\n",
    "        condition=False\n",
    "    \n",
    "    "
   ]
  },
  {
   "cell_type": "code",
   "execution_count": 14,
   "metadata": {},
   "outputs": [],
   "source": [
    "webd=wb.Chrome(executable_path='D:\\chromedriver.exe')\n",
    "webd.get(listoflinks[0])"
   ]
  },
  {
   "cell_type": "code",
   "execution_count": 15,
   "metadata": {},
   "outputs": [],
   "source": [
    "a=webd.find_element_by_xpath('/html/body/div[1]/div[3]/div/div[2]/div/div/div[2]/div[1]/h4[2]').text\n",
    "b=webd.find_element_by_xpath(\"/html/body/div[1]/div[3]/div/div[2]/div/div/div[2]/div[1]/h4[1]\").text\n",
    "\n",
    "c=webd.find_element_by_xpath(\"/html/body/div[1]/div[3]/div/div[2]/div/div/div[2]/div[3]\").text\n",
    "\n",
    "d=webd.find_element_by_xpath(\"/html/body/div[1]/div[3]/div/div[2]/div/div/div[2]/div[1]/p\").text\n"
   ]
  },
  {
   "cell_type": "code",
   "execution_count": null,
   "metadata": {},
   "outputs": [],
   "source": []
  },
  {
   "cell_type": "code",
   "execution_count": 16,
   "metadata": {},
   "outputs": [],
   "source": [
    "tempj={'nameoftheproduct':a,\n",
    "       'priceproduct':b,\n",
    "      'reviewoftheproduct':c,\n",
    "      'descriptionofproduct':d,\n",
    "      'linkofproduct':''}"
   ]
  },
  {
   "cell_type": "code",
   "execution_count": 17,
   "metadata": {},
   "outputs": [
    {
     "data": {
      "text/plain": [
       "{'nameoftheproduct': 'Packard 255 G2',\n",
       " 'priceproduct': '$416.99',\n",
       " 'reviewoftheproduct': '2 reviews',\n",
       " 'descriptionofproduct': '15.6\", AMD E2-3800 1.3GHz, 4GB, 500GB, Windows 8.1',\n",
       " 'linkofproduct': ''}"
      ]
     },
     "execution_count": 17,
     "metadata": {},
     "output_type": "execute_result"
    }
   ],
   "source": [
    "tempj"
   ]
  },
  {
   "cell_type": "code",
   "execution_count": 18,
   "metadata": {},
   "outputs": [
    {
     "name": "stderr",
     "output_type": "stream",
     "text": [
      "100%|████████████████████████████████████████████| 6/6 [00:07<00:00,  1.18s/it]\n"
     ]
    }
   ],
   "source": [
    "from tqdm import tqdm\n",
    "alldetails=[]\n",
    "for i in tqdm(listoflinks):\n",
    "    webd.get(i)\n",
    "    a=webd.find_element_by_xpath('/html/body/div[1]/div[3]/div/div[2]/div/div/div[2]/div[1]/h4[2]').text\n",
    "    b=webd.find_element_by_xpath(\"/html/body/div[1]/div[3]/div/div[2]/div/div/div[2]/div[1]/h4[1]\").text\n",
    "\n",
    "    c=webd.find_element_by_xpath(\"/html/body/div[1]/div[3]/div/div[2]/div/div/div[2]/div[3]\").text\n",
    "\n",
    "    d=webd.find_element_by_xpath(\"/html/body/div[1]/div[3]/div/div[2]/div/div/div[2]/div[1]/p\").text\n",
    "    tempj={'nameoftheproduct':a,\n",
    "       'priceproduct':b,\n",
    "      'reviewoftheproduct':c,\n",
    "      'descriptionofproduct':d,\n",
    "      'linkofproduct':'i'}\n",
    "    alldetails.append(tempj)"
   ]
  },
  {
   "cell_type": "code",
   "execution_count": 19,
   "metadata": {},
   "outputs": [],
   "source": [
    "import pandas as pd\n",
    "q=pd.DataFrame(alldetails)"
   ]
  },
  {
   "cell_type": "code",
   "execution_count": 20,
   "metadata": {},
   "outputs": [
    {
     "data": {
      "text/html": [
       "<div>\n",
       "<style scoped>\n",
       "    .dataframe tbody tr th:only-of-type {\n",
       "        vertical-align: middle;\n",
       "    }\n",
       "\n",
       "    .dataframe tbody tr th {\n",
       "        vertical-align: top;\n",
       "    }\n",
       "\n",
       "    .dataframe thead th {\n",
       "        text-align: right;\n",
       "    }\n",
       "</style>\n",
       "<table border=\"1\" class=\"dataframe\">\n",
       "  <thead>\n",
       "    <tr style=\"text-align: right;\">\n",
       "      <th></th>\n",
       "      <th>nameoftheproduct</th>\n",
       "      <th>priceproduct</th>\n",
       "      <th>reviewoftheproduct</th>\n",
       "      <th>descriptionofproduct</th>\n",
       "      <th>linkofproduct</th>\n",
       "    </tr>\n",
       "  </thead>\n",
       "  <tbody>\n",
       "    <tr>\n",
       "      <td>0</td>\n",
       "      <td>Packard 255 G2</td>\n",
       "      <td>$416.99</td>\n",
       "      <td>2 reviews</td>\n",
       "      <td>15.6\", AMD E2-3800 1.3GHz, 4GB, 500GB, Windows...</td>\n",
       "      <td>i</td>\n",
       "    </tr>\n",
       "    <tr>\n",
       "      <td>1</td>\n",
       "      <td>Aspire E1-510</td>\n",
       "      <td>$306.99</td>\n",
       "      <td>2 reviews</td>\n",
       "      <td>15.6\", Pentium N3520 2.16GHz, 4GB, 500GB, Linux</td>\n",
       "      <td>i</td>\n",
       "    </tr>\n",
       "    <tr>\n",
       "      <td>2</td>\n",
       "      <td>ThinkPad T540p</td>\n",
       "      <td>$1178.99</td>\n",
       "      <td>2 reviews</td>\n",
       "      <td>15.6\", Core i5-4200M, 4GB, 500GB, Win7 Pro 64bit</td>\n",
       "      <td>i</td>\n",
       "    </tr>\n",
       "    <tr>\n",
       "      <td>3</td>\n",
       "      <td>ProBook</td>\n",
       "      <td>$739.99</td>\n",
       "      <td>8 reviews</td>\n",
       "      <td>14\", Core i5 2.6GHz, 4GB, 500GB, Win7 Pro 64bit</td>\n",
       "      <td>i</td>\n",
       "    </tr>\n",
       "    <tr>\n",
       "      <td>4</td>\n",
       "      <td>ThinkPad X240</td>\n",
       "      <td>$1311.99</td>\n",
       "      <td>12 reviews</td>\n",
       "      <td>12.5\", Core i5-4300U, 8GB, 240GB SSD, Win7 Pro...</td>\n",
       "      <td>i</td>\n",
       "    </tr>\n",
       "    <tr>\n",
       "      <td>5</td>\n",
       "      <td>Aspire E1-572G</td>\n",
       "      <td>$581.99</td>\n",
       "      <td>2 reviews</td>\n",
       "      <td>15.6\", Core i5-4200U, 8GB, 1TB, Radeon R7 M265...</td>\n",
       "      <td>i</td>\n",
       "    </tr>\n",
       "  </tbody>\n",
       "</table>\n",
       "</div>"
      ],
      "text/plain": [
       "  nameoftheproduct priceproduct reviewoftheproduct  \\\n",
       "0   Packard 255 G2      $416.99          2 reviews   \n",
       "1    Aspire E1-510      $306.99          2 reviews   \n",
       "2   ThinkPad T540p     $1178.99          2 reviews   \n",
       "3          ProBook      $739.99          8 reviews   \n",
       "4    ThinkPad X240     $1311.99         12 reviews   \n",
       "5   Aspire E1-572G      $581.99          2 reviews   \n",
       "\n",
       "                                descriptionofproduct linkofproduct  \n",
       "0  15.6\", AMD E2-3800 1.3GHz, 4GB, 500GB, Windows...             i  \n",
       "1    15.6\", Pentium N3520 2.16GHz, 4GB, 500GB, Linux             i  \n",
       "2   15.6\", Core i5-4200M, 4GB, 500GB, Win7 Pro 64bit             i  \n",
       "3    14\", Core i5 2.6GHz, 4GB, 500GB, Win7 Pro 64bit             i  \n",
       "4  12.5\", Core i5-4300U, 8GB, 240GB SSD, Win7 Pro...             i  \n",
       "5  15.6\", Core i5-4200U, 8GB, 1TB, Radeon R7 M265...             i  "
      ]
     },
     "execution_count": 20,
     "metadata": {},
     "output_type": "execute_result"
    }
   ],
   "source": [
    "q"
   ]
  },
  {
   "cell_type": "code",
   "execution_count": null,
   "metadata": {},
   "outputs": [],
   "source": []
  },
  {
   "cell_type": "code",
   "execution_count": null,
   "metadata": {},
   "outputs": [],
   "source": []
  },
  {
   "cell_type": "code",
   "execution_count": null,
   "metadata": {},
   "outputs": [],
   "source": []
  }
 ],
 "metadata": {
  "kernelspec": {
   "display_name": "Python 3",
   "language": "python",
   "name": "python3"
  },
  "language_info": {
   "codemirror_mode": {
    "name": "ipython",
    "version": 3
   },
   "file_extension": ".py",
   "mimetype": "text/x-python",
   "name": "python",
   "nbconvert_exporter": "python",
   "pygments_lexer": "ipython3",
   "version": "3.7.4"
  }
 },
 "nbformat": 4,
 "nbformat_minor": 2
}
