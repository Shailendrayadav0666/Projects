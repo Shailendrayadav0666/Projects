{
 "cells": [
  {
   "cell_type": "code",
   "execution_count": 1,
   "metadata": {},
   "outputs": [
    {
     "name": "stdout",
     "output_type": "stream",
     "text": [
      "Requirement already satisfied: counter in c:\\programdata\\anaconda3\\lib\\site-packages (1.0.0)\n"
     ]
    }
   ],
   "source": [
    "!pip install counter"
   ]
  },
  {
   "cell_type": "code",
   "execution_count": 13,
   "metadata": {},
   "outputs": [],
   "source": [
    "import string\n",
    "from collections import Counter\n",
    "import matplotlib.pyplot as plt\n",
    "from nltk.corpus import stopwords\n",
    "from nltk.sentiment.vader import SentimentIntensityAnalyzer\n",
    "from nltk.stem import WordNetLemmatizer\n",
    "from nltk.tokenize import word_tokenize\n",
    "\n",
    "import nltk\n",
    "import warnings\n",
    "warnings.filterwarnings('ignore')"
   ]
  },
  {
   "cell_type": "code",
   "execution_count": 14,
   "metadata": {},
   "outputs": [
    {
     "name": "stderr",
     "output_type": "stream",
     "text": [
      "[nltk_data] Downloading package vader_lexicon to C:\\Users\\Shailendra\n",
      "[nltk_data]     Yadav\\AppData\\Roaming\\nltk_data...\n",
      "[nltk_data]   Package vader_lexicon is already up-to-date!\n"
     ]
    },
    {
     "data": {
      "text/plain": [
       "True"
      ]
     },
     "execution_count": 14,
     "metadata": {},
     "output_type": "execute_result"
    }
   ],
   "source": [
    "nltk.download('vader_lexicon')"
   ]
  },
  {
   "cell_type": "code",
   "execution_count": 15,
   "metadata": {},
   "outputs": [],
   "source": [
    "#text=open('D:/New Folder (2)/read.txt','r',encoding='utf-8')\n",
    "text=open('D:/New Folder (2)/read.txt', encoding=\"utf-8\").read()\n",
    "\n",
    "lower_case=text.lower()\n",
    "\n",
    "#str.maketrans removes any punctuations\n",
    "\n",
    "cleaned_text=lower_case.translate(str.maketrans('','',string.punctuation))\n",
    "\n",
    "#using word_tokenize to tokenize sentence into words\n",
    "\n",
    "tokenized_words=word_tokenize(cleaned_text,\"english\")\n"
   ]
  },
  {
   "cell_type": "code",
   "execution_count": 16,
   "metadata": {},
   "outputs": [],
   "source": [
    "#removing stop words\n",
    "\n",
    "final_words=[]\n",
    "\n",
    "for word in tokenized_words:\n",
    "    if word in stopwords.words('english'):\n",
    "        final_words.append(word)"
   ]
  },
  {
   "cell_type": "code",
   "execution_count": 17,
   "metadata": {},
   "outputs": [],
   "source": [
    "lemma_words=[]\n",
    "\n",
    "for word in final_words:\n",
    "    word=WordNetLemmatizer().lemmatize(word)\n",
    "    lemma_words.append(word)"
   ]
  },
  {
   "cell_type": "code",
   "execution_count": 18,
   "metadata": {
    "scrolled": true
   },
   "outputs": [
    {
     "name": "stdout",
     "output_type": "stream",
     "text": [
      "people emotions from the text\n",
      " [] \n",
      ",\n",
      "\n",
      "count of each emotion \n",
      " Counter()\n"
     ]
    }
   ],
   "source": [
    "emotion_list=[]\n",
    "\n",
    "with open('D:/New Folder (2)/emotions.txt','r') as file:\n",
    "    for line in file:\n",
    "        clear_line=line.replace(\"\\n\", '').replace(\",\", '').replace(\"'\", '').strip()\n",
    "        word, emotion=clear_line.split(':')\n",
    "        \n",
    "        if word in lemma_words:\n",
    "            emotion_list.append(emotion)\n",
    "            \n",
    "print(\"people emotions from the text\\n\", emotion_list,'\\n,\\n')\n",
    "\n",
    "w=Counter(emotion_list)\n",
    "print(\"count of each emotion \\n\",w)\n",
    "            \n",
    "        "
   ]
  },
  {
   "cell_type": "code",
   "execution_count": 19,
   "metadata": {},
   "outputs": [
    {
     "data": {
      "text/plain": [
       "' worked up: angry'"
      ]
     },
     "execution_count": 19,
     "metadata": {},
     "output_type": "execute_result"
    }
   ],
   "source": [
    "clear_line\n"
   ]
  },
  {
   "cell_type": "code",
   "execution_count": 20,
   "metadata": {},
   "outputs": [
    {
     "name": "stdout",
     "output_type": "stream",
     "text": [
      "{'neg': 0.0, 'neu': 0.687, 'pos': 0.313, 'compound': 0.6249}\n"
     ]
    }
   ],
   "source": [
    "# test how sentiment nalysis works\n",
    "\n",
    "sia=SentimentIntensityAnalyzer()\n",
    "\n",
    "test_sent='Corono is a bad virus and killed many people'\n",
    "sent='House of cards is a awesome series, one of my favourite'\n",
    "\n",
    "print(sia.polarity_scores(sent))"
   ]
  },
  {
   "cell_type": "code",
   "execution_count": 19,
   "metadata": {},
   "outputs": [],
   "source": [
    "def sentiment_analysis(sentiment_text):\n",
    "    \n",
    "    score=SentimentIntensityAnalyzer().polarity_scores(sentiment_text)\n",
    "    \n",
    "    if score['neg']>score['pos']:\n",
    "        print('\\n     *************Negative Sentiment************')\n",
    "        \n",
    "    elif score['neg']<score['pos']:\n",
    "        print('\\n****** positive sentiment********')\n",
    "        \n",
    "    else:\n",
    "        print(\"neutral sentiment\")\n",
    "    "
   ]
  },
  {
   "cell_type": "code",
   "execution_count": 20,
   "metadata": {},
   "outputs": [
    {
     "name": "stdout",
     "output_type": "stream",
     "text": [
      "\n",
      "****** positive sentiment********\n"
     ]
    }
   ],
   "source": [
    "sentiment_analysis(cleaned_text)"
   ]
  },
  {
   "cell_type": "code",
   "execution_count": 21,
   "metadata": {},
   "outputs": [
    {
     "data": {
      "image/png": "[encoded data removed]",
      "text/plain": [
       "<Figure size 432x288 with 1 Axes>"
      ]
     },
     "metadata": {
      "needs_background": "light"
     },
     "output_type": "display_data"
    }
   ],
   "source": [
    "fig, ax1 = plt.subplots()\n",
    "ax1.bar(w.keys(), w.values())\n",
    "fig.autofmt_xdate()\n",
    "plt.savefig('graph.png')\n",
    "plt.show()"
   ]
  },
  {
   "cell_type": "code",
   "execution_count": null,
   "metadata": {},
   "outputs": [],
   "source": []
  }
 ],
 "metadata": {
  "kernelspec": {
   "display_name": "Python 3",
   "language": "python",
   "name": "python3"
  },
  "language_info": {
   "codemirror_mode": {
    "name": "ipython",
    "version": 3
   },
   "file_extension": ".py",
   "mimetype": "text/x-python",
   "name": "python",
   "nbconvert_exporter": "python",
   "pygments_lexer": "ipython3",
   "version": "3.7.4"
  }
 },
 "nbformat": 4,
 "nbformat_minor": 2
}
