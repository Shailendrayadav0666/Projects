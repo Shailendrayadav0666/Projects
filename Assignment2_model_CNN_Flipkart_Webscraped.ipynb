{
 "cells": [
  {
   "cell_type": "code",
   "execution_count": 1,
   "metadata": {},
   "outputs": [
    {
     "name": "stderr",
     "output_type": "stream",
     "text": [
      "Using TensorFlow backend.\n"
     ]
    }
   ],
   "source": [
    "import numpy as np\n",
    "import matplotlib.pyplot as plt\n",
    "import os\n",
    "import cv2\n",
    "import keras\n",
    "from keras.preprocessing.image import ImageDataGenerator\n",
    "from keras.layers import Dense, Dropout, Conv2D,MaxPooling2D,Activation,Flatten,ZeroPadding2D\n",
    "from keras.models import Sequential\n",
    "from keras import optimizers\n",
    "\n",
    "\n",
    "train=\"C:/Users/Shailendra Yadav/Datasets/Assignment2/training/\"\n",
    "validation=\"C:/Users/Shailendra Yadav/Datasets/Assignment2/validation/\""
   ]
  },
  {
   "cell_type": "code",
   "execution_count": 2,
   "metadata": {},
   "outputs": [],
   "source": [
    "input_shape=(150,150,3)\n",
    "img_width=150\n",
    "img_height=150\n",
    "\n",
    "train_samples=140\n",
    "validation_samples=60\n",
    "\n",
    "batch_size=32\n",
    "num_classes=2\n",
    "epochs=20"
   ]
  },
  {
   "cell_type": "code",
   "execution_count": 3,
   "metadata": {},
   "outputs": [],
   "source": [
    "datagen=ImageDataGenerator(rescale=1./255)"
   ]
  },
  {
   "cell_type": "code",
   "execution_count": 12,
   "metadata": {},
   "outputs": [
    {
     "name": "stdout",
     "output_type": "stream",
     "text": [
      "Found 140 images belonging to 2 classes.\n",
      "Found 60 images belonging to 2 classes.\n"
     ]
    }
   ],
   "source": [
    "train_generator=datagen.flow_from_directory(train,\n",
    "                                            target_size=(img_width,img_height),\n",
    "                                           batch_size=16,\n",
    "                                           class_mode='binary')\n",
    "validation_generator=datagen.flow_from_directory(validation,\n",
    "                                                target_size=(img_width,img_height),\n",
    "                                                batch_size=32,\n",
    "                                                class_mode='binary')"
   ]
  },
  {
   "cell_type": "code",
   "execution_count": 13,
   "metadata": {},
   "outputs": [
    {
     "name": "stdout",
     "output_type": "stream",
     "text": [
      "Model: \"sequential_2\"\n",
      "_________________________________________________________________\n",
      "Layer (type)                 Output Shape              Param #   \n",
      "=================================================================\n",
      "conv2d_4 (Conv2D)            (None, 148, 148, 32)      896       \n",
      "_________________________________________________________________\n",
      "activation_6 (Activation)    (None, 148, 148, 32)      0         \n",
      "_________________________________________________________________\n",
      "max_pooling2d_4 (MaxPooling2 (None, 74, 74, 32)        0         \n",
      "_________________________________________________________________\n",
      "dropout_5 (Dropout)          (None, 74, 74, 32)        0         \n",
      "_________________________________________________________________\n",
      "conv2d_5 (Conv2D)            (None, 72, 72, 32)        9248      \n",
      "_________________________________________________________________\n",
      "activation_7 (Activation)    (None, 72, 72, 32)        0         \n",
      "_________________________________________________________________\n",
      "max_pooling2d_5 (MaxPooling2 (None, 36, 36, 32)        0         \n",
      "_________________________________________________________________\n",
      "dropout_6 (Dropout)          (None, 36, 36, 32)        0         \n",
      "_________________________________________________________________\n",
      "conv2d_6 (Conv2D)            (None, 34, 34, 64)        18496     \n",
      "_________________________________________________________________\n",
      "activation_8 (Activation)    (None, 34, 34, 64)        0         \n",
      "_________________________________________________________________\n",
      "max_pooling2d_6 (MaxPooling2 (None, 17, 17, 64)        0         \n",
      "_________________________________________________________________\n",
      "dropout_7 (Dropout)          (None, 17, 17, 64)        0         \n",
      "_________________________________________________________________\n",
      "flatten_2 (Flatten)          (None, 18496)             0         \n",
      "_________________________________________________________________\n",
      "dense_3 (Dense)              (None, 64)                1183808   \n",
      "_________________________________________________________________\n",
      "activation_9 (Activation)    (None, 64)                0         \n",
      "_________________________________________________________________\n",
      "dropout_8 (Dropout)          (None, 64)                0         \n",
      "_________________________________________________________________\n",
      "dense_4 (Dense)              (None, 1)                 65        \n",
      "_________________________________________________________________\n",
      "activation_10 (Activation)   (None, 1)                 0         \n",
      "=================================================================\n",
      "Total params: 1,212,513\n",
      "Trainable params: 1,212,513\n",
      "Non-trainable params: 0\n",
      "_________________________________________________________________\n",
      "None\n"
     ]
    }
   ],
   "source": [
    "model=Sequential()\n",
    "model.add(Conv2D(32,(3,3),input_shape=input_shape))\n",
    "model.add(Activation('relu'))\n",
    "model.add(MaxPooling2D(pool_size=(2,2)))\n",
    "model.add(Dropout(0.5))\n",
    "model.add(Conv2D(32,(3,3)))\n",
    "model.add(Activation('relu'))\n",
    "model.add(MaxPooling2D(pool_size=(2,2)))\n",
    "model.add(Dropout(0.5))\n",
    "model.add(Conv2D(64,(3,3)))\n",
    "model.add(Activation('relu'))\n",
    "model.add(MaxPooling2D(pool_size=(2,2)))\n",
    "model.add(Dropout(0.5))\n",
    "\n",
    "model.add(Flatten())\n",
    "model.add(Dense(64))\n",
    "model.add(Activation('relu'))\n",
    "model.add(Dropout(0.5))\n",
    "model.add(Dense(1))\n",
    "model.add(Activation('sigmoid'))\n",
    "\n",
    "print(model.summary())"
   ]
  },
  {
   "cell_type": "code",
   "execution_count": 14,
   "metadata": {},
   "outputs": [],
   "source": [
    "model.compile(loss='binary_crossentropy',\n",
    "             optimizer='rmsprop',\n",
    "             metrics=['accuracy'])\n",
    "import warnings\n"
   ]
  },
  {
   "cell_type": "code",
   "execution_count": 15,
   "metadata": {},
   "outputs": [
    {
     "name": "stdout",
     "output_type": "stream",
     "text": [
      "Epoch 1/20\n",
      "4/4 [==============================] - 10s 2s/step - loss: 2.3247 - accuracy: 0.4531 - val_loss: 0.6939 - val_accuracy: 0.3750\n",
      "Epoch 2/20\n",
      "4/4 [==============================] - 11s 3s/step - loss: 0.6912 - accuracy: 0.5667 - val_loss: 0.7002 - val_accuracy: 0.3571\n",
      "Epoch 3/20\n",
      "4/4 [==============================] - 13s 3s/step - loss: 0.7188 - accuracy: 0.4844 - val_loss: 0.6936 - val_accuracy: 0.5000\n",
      "Epoch 4/20\n",
      "4/4 [==============================] - 12s 3s/step - loss: 0.7193 - accuracy: 0.5156 - val_loss: 0.6933 - val_accuracy: 0.5000\n",
      "Epoch 5/20\n",
      "4/4 [==============================] - 11s 3s/step - loss: 0.6945 - accuracy: 0.5833 - val_loss: 0.6925 - val_accuracy: 0.5625\n",
      "Epoch 6/20\n",
      "4/4 [==============================] - 10s 2s/step - loss: 0.6298 - accuracy: 0.6167 - val_loss: 0.6912 - val_accuracy: 0.5714\n",
      "Epoch 7/20\n",
      "4/4 [==============================] - 10s 3s/step - loss: 0.6619 - accuracy: 0.6094 - val_loss: 0.6947 - val_accuracy: 0.5000\n",
      "Epoch 8/20\n",
      "4/4 [==============================] - 9s 2s/step - loss: 0.6493 - accuracy: 0.6333 - val_loss: 0.6895 - val_accuracy: 0.5357\n",
      "Epoch 9/20\n",
      "4/4 [==============================] - 10s 3s/step - loss: 0.7326 - accuracy: 0.5469 - val_loss: 0.6916 - val_accuracy: 0.5938\n",
      "Epoch 10/20\n",
      "4/4 [==============================] - 11s 3s/step - loss: 0.6859 - accuracy: 0.5167 - val_loss: 0.6901 - val_accuracy: 0.7143\n",
      "Epoch 11/20\n",
      "4/4 [==============================] - 11s 3s/step - loss: 0.6132 - accuracy: 0.6562 - val_loss: 0.6837 - val_accuracy: 0.7500\n",
      "Epoch 12/20\n",
      "4/4 [==============================] - 10s 3s/step - loss: 0.5979 - accuracy: 0.7031 - val_loss: 0.6973 - val_accuracy: 0.5000\n",
      "Epoch 13/20\n",
      "4/4 [==============================] - 10s 3s/step - loss: 0.6351 - accuracy: 0.6500 - val_loss: 0.6805 - val_accuracy: 0.7188\n",
      "Epoch 14/20\n",
      "4/4 [==============================] - 11s 3s/step - loss: 0.6281 - accuracy: 0.6719 - val_loss: 0.6845 - val_accuracy: 0.5357\n",
      "Epoch 15/20\n",
      "4/4 [==============================] - 12s 3s/step - loss: 0.5285 - accuracy: 0.7188 - val_loss: 0.6955 - val_accuracy: 0.4688\n",
      "Epoch 16/20\n",
      "4/4 [==============================] - 12s 3s/step - loss: 0.6746 - accuracy: 0.6000 - val_loss: 0.6887 - val_accuracy: 0.5357\n",
      "Epoch 17/20\n",
      "4/4 [==============================] - 10s 3s/step - loss: 0.5497 - accuracy: 0.7000 - val_loss: 0.6779 - val_accuracy: 0.6250\n",
      "Epoch 18/20\n",
      "4/4 [==============================] - 10s 3s/step - loss: 0.4770 - accuracy: 0.7656 - val_loss: 0.6834 - val_accuracy: 0.5714\n",
      "Epoch 19/20\n",
      "4/4 [==============================] - 11s 3s/step - loss: 0.4806 - accuracy: 0.7656 - val_loss: 0.7104 - val_accuracy: 0.4688\n",
      "Epoch 20/20\n",
      "4/4 [==============================] - 10s 2s/step - loss: 0.6565 - accuracy: 0.6833 - val_loss: 0.6746 - val_accuracy: 0.6071\n"
     ]
    }
   ],
   "source": [
    "history=model.fit_generator(train_generator,\n",
    "                            steps_per_epoch=train_samples // batch_size,\n",
    "                 epochs=epochs,\n",
    "                            validation_data=validation_generator,\n",
    "                            validation_steps=validation_samples // batch_size,)"
   ]
  },
  {
   "cell_type": "code",
   "execution_count": 16,
   "metadata": {},
   "outputs": [],
   "source": [
    "model.save(\"Assignment2_flipkart\")"
   ]
  },
  {
   "cell_type": "code",
   "execution_count": 17,
   "metadata": {},
   "outputs": [],
   "source": [
    "predict_dir_path='C:/Users/Shailendra Yadav/Datasets/Assignment2/test/'"
   ]
  },
  {
   "cell_type": "code",
   "execution_count": 18,
   "metadata": {},
   "outputs": [
    {
     "name": "stdout",
     "output_type": "stream",
     "text": [
      "['img_01.jpeg', 'img_011.jpeg', 'img_02.jpeg', 'img_0222.jpeg', 'img_03.jpeg', 'img_03333.jpeg', 'img_11.jpeg', 'img_1198.jpeg', 'img_12.jpeg', 'img_1212.jpeg', 'img_13.jpeg', 'img_1321.jpeg', 'img_21.jpeg', 'img_2121.jpeg', 'img_22.jpeg', 'img_22123.jpeg', 'img_23.jpeg', 'img_2343.jpeg', 'img_31.jpeg', 'img_31444.jpeg', 'img_32.jpeg', 'img_33.jpeg', 'img_33555.jpeg', 'img_3876.jpeg', 'img_41.jpeg', 'img_4133.jpeg', 'img_42.jpeg', 'img_425445.jpeg', 'img_43.jpeg', 'img_43233.jpeg', 'img_51.jpeg', 'img_51222.jpeg', 'img_52.jpeg', 'img_52666.jpeg', 'img_53 35.jpeg', 'img_53.jpeg']\n"
     ]
    }
   ],
   "source": [
    "from os import listdir\n",
    "from os.path import isfile, join\n",
    "onlyfiles=[f for f in listdir(predict_dir_path) if isfile(join(predict_dir_path, f))]\n",
    "print(onlyfiles)"
   ]
  },
  {
   "cell_type": "code",
   "execution_count": 19,
   "metadata": {},
   "outputs": [
    {
     "name": "stdout",
     "output_type": "stream",
     "text": [
      "img_01.jpeg:jean\n",
      "img_011.jpeg:trouser\n",
      "img_02.jpeg:jean\n",
      "img_0222.jpeg:trouser\n",
      "img_03.jpeg:jean\n",
      "img_03333.jpeg:trouser\n",
      "img_11.jpeg:trouser\n",
      "img_1198.jpeg:trouser\n",
      "img_12.jpeg:jean\n",
      "img_1212.jpeg:trouser\n",
      "img_13.jpeg:jean\n",
      "img_1321.jpeg:trouser\n",
      "img_21.jpeg:trouser\n",
      "img_2121.jpeg:trouser\n",
      "img_22.jpeg:jean\n",
      "img_22123.jpeg:trouser\n",
      "img_23.jpeg:jean\n",
      "img_2343.jpeg:trouser\n",
      "img_31.jpeg:jean\n",
      "img_31444.jpeg:trouser\n",
      "img_32.jpeg:jean\n",
      "img_33.jpeg:jean\n",
      "img_33555.jpeg:trouser\n",
      "img_3876.jpeg:trouser\n",
      "img_41.jpeg:jean\n",
      "img_4133.jpeg:trouser\n",
      "img_42.jpeg:trouser\n",
      "img_425445.jpeg:trouser\n",
      "img_43.jpeg:jean\n",
      "img_43233.jpeg:trouser\n",
      "img_51.jpeg:jean\n",
      "img_51222.jpeg:trouser\n",
      "img_52.jpeg:jean\n",
      "img_52666.jpeg:trouser\n",
      "img_53 35.jpeg:trouser\n",
      "img_53.jpeg:jean\n",
      "total jeans: 15\n",
      "total trousers: 21\n"
     ]
    }
   ],
   "source": [
    "#predicting images\n",
    "from keras.preprocessing import image\n",
    "jean_counter=0\n",
    "trouser_counter=0\n",
    "for file in onlyfiles:\n",
    "    img=image.load_img(predict_dir_path + file,target_size=(img_width,img_height))\n",
    "    x=image.img_to_array(img)\n",
    "    x=np.expand_dims(x, axis=0)\n",
    "    \n",
    "    images=np.vstack([x])\n",
    "    classes=model.predict_classes(images,batch_size=10)\n",
    "    classes=classes[0][0]\n",
    "    \n",
    "    if classes==0:\n",
    "        print(file+\":\"+'jean')\n",
    "        jean_counter+=1\n",
    "    else:\n",
    "        print(file+\":\"+'trouser')\n",
    "        trouser_counter+=1\n",
    "print(\"total jeans:\",jean_counter)\n",
    "print(\"total trousers:\",trouser_counter)"
   ]
  },
  {
   "cell_type": "code",
   "execution_count": null,
   "metadata": {},
   "outputs": [],
   "source": []
  }
 ],
 "metadata": {
  "kernelspec": {
   "display_name": "Python 3",
   "language": "python",
   "name": "python3"
  },
  "language_info": {
   "codemirror_mode": {
    "name": "ipython",
    "version": 3
   },
   "file_extension": ".py",
   "mimetype": "text/x-python",
   "name": "python",
   "nbconvert_exporter": "python",
   "pygments_lexer": "ipython3",
   "version": "3.6.10"
  }
 },
 "nbformat": 4,
 "nbformat_minor": 4
}
