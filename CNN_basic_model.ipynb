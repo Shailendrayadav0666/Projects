{
  "nbformat": 4,
  "nbformat_minor": 0,
  "metadata": {
    "colab": {
      "name": "CNN_basic_model.ipynb",
      "provenance": [],
      "collapsed_sections": []
    },
    "kernelspec": {
      "name": "python3",
      "display_name": "Python 3"
    }
  },
  "cells": [
    {
      "cell_type": "code",
      "metadata": {
        "id": "B2I-1Pv3wx2T",
        "colab_type": "code",
        "colab": {
          "base_uri": "https://localhost:8080/",
          "height": 374
        },
        "outputId": "10515d07-a423-4082-f85c-bb5a682613c7"
      },
      "source": [
        "import numpy as np\n",
        "np.random.seed(123)  \n",
        " \n",
        "from keras.models import Sequential\n",
        "from keras.layers import Dense, Dropout, Activation, Flatten\n",
        "from keras.layers import Convolution2D, MaxPooling2D\n",
        "from keras.utils import np_utils\n",
        "from keras.datasets import mnist\n",
        " \n",
        "# 1. Loading pre-shuffled MNIST data into train and test sets\n",
        "(X_train, y_train), (X_test, y_test) = mnist.load_data()\n",
        " \n",
        "# 2. Preprocess input data\n",
        "X_train = X_train.reshape(X_train.shape[0],28, 28,1)\n",
        "X_test = X_test.reshape(X_test.shape[0],28, 28,1)\n",
        "X_train = X_train.astype('float32')\n",
        "X_test = X_test.astype('float32')\n",
        "X_train /= 255\n",
        "X_test /= 255\n",
        " \n",
        "# 3. Preprocess class labels\n",
        "Y_train = np_utils.to_categorical(y_train, 10)\n",
        "Y_test = np_utils.to_categorical(y_test, 10)\n",
        " \n",
        "# 4. Define model architecture\n",
        "model = Sequential()\n",
        " \n",
        "model.add(Convolution2D(32, (3, 3), activation='relu', input_shape=(28,28,1)))\n",
        "model.add(Convolution2D(32, (3, 3), activation='relu'))\n",
        "model.add(MaxPooling2D(pool_size=(2,2)))\n",
        "model.add(Dropout(0.25))\n",
        " \n",
        "model.add(Flatten())\n",
        "model.add(Dense(128, activation='relu'))\n",
        "model.add(Dropout(0.5))\n",
        "model.add(Dense(10, activation='softmax'))\n",
        " \n",
        "# 5. Compile model\n",
        "model.compile(loss='categorical_crossentropy',\n",
        "              optimizer='adam',\n",
        "              metrics=['accuracy'])\n",
        " \n",
        "# 6. Fit model on training data\n",
        "model.fit(X_train, Y_train, \n",
        "          batch_size=32, nb_epoch=10, verbose=1)\n",
        " \n",
        "# 7. Evaluate model on test data\n",
        "score = model.evaluate(X_test, Y_test, verbose=0)"
      ],
      "execution_count": 11,
      "outputs": [
        {
          "output_type": "stream",
          "text": [
            "/usr/local/lib/python3.6/dist-packages/ipykernel_launcher.py:45: UserWarning: The `nb_epoch` argument in `fit` has been renamed `epochs`.\n"
          ],
          "name": "stderr"
        },
        {
          "output_type": "stream",
          "text": [
            "Epoch 1/10\n",
            "60000/60000 [==============================] - 109s 2ms/step - loss: 0.2043 - accuracy: 0.9380\n",
            "Epoch 2/10\n",
            "60000/60000 [==============================] - 108s 2ms/step - loss: 0.0860 - accuracy: 0.9741\n",
            "Epoch 3/10\n",
            "60000/60000 [==============================] - 108s 2ms/step - loss: 0.0641 - accuracy: 0.9804\n",
            "Epoch 4/10\n",
            "60000/60000 [==============================] - 107s 2ms/step - loss: 0.0533 - accuracy: 0.9832\n",
            "Epoch 5/10\n",
            "60000/60000 [==============================] - 107s 2ms/step - loss: 0.0439 - accuracy: 0.9856\n",
            "Epoch 6/10\n",
            "60000/60000 [==============================] - 107s 2ms/step - loss: 0.0411 - accuracy: 0.9871\n",
            "Epoch 7/10\n",
            "60000/60000 [==============================] - 107s 2ms/step - loss: 0.0358 - accuracy: 0.9890\n",
            "Epoch 8/10\n",
            "60000/60000 [==============================] - 107s 2ms/step - loss: 0.0310 - accuracy: 0.9894\n",
            "Epoch 9/10\n",
            "60000/60000 [==============================] - 108s 2ms/step - loss: 0.0298 - accuracy: 0.9908\n",
            "Epoch 10/10\n",
            "60000/60000 [==============================] - 107s 2ms/step - loss: 0.0283 - accuracy: 0.9907\n"
          ],
          "name": "stdout"
        }
      ]
    }
  ]
}