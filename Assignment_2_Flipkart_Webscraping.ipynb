{
 "cells": [
  {
   "cell_type": "code",
   "execution_count": 356,
   "metadata": {},
   "outputs": [],
   "source": [
    "import selenium\n",
    "from selenium import webdriver as wb\n",
    "import os"
   ]
  },
  {
   "cell_type": "code",
   "execution_count": 357,
   "metadata": {},
   "outputs": [],
   "source": [
    "driver=wb.Chrome('chromedriver.exe')"
   ]
  },
  {
   "cell_type": "code",
   "execution_count": 358,
   "metadata": {},
   "outputs": [],
   "source": [
    "current_page=driver.get('https://www.flipkart.com/clothing-and-accessories/bottomwear/trouser/men-trouser/pr?sid=clo%2Cvua%2Cmle%2Clhk&otracker=categorytree&p%5B%5D=facets.occasion%255B%255D%3DFormal&otracker=nmenu_sub_Men_0_Formal%20Trousers')"
   ]
  },
  {
   "cell_type": "code",
   "execution_count": 359,
   "metadata": {},
   "outputs": [],
   "source": [
    "def make_directory(dirname):\n",
    "    current_path=os.getcwd()\n",
    "    path=os.path.join(current_path,dirname)\n",
    "    if not os.path.exists(path):\n",
    "        os.makedirs(path)"
   ]
  },
  {
   "cell_type": "code",
   "execution_count": 360,
   "metadata": {},
   "outputs": [],
   "source": [
    "make_directory('assignment2')"
   ]
  },
  {
   "cell_type": "code",
   "execution_count": 361,
   "metadata": {},
   "outputs": [],
   "source": [
    "trousers=driver.find_elements_by_xpath(\"//img[@class='_3togXc']\")"
   ]
  },
  {
   "cell_type": "code",
   "execution_count": 362,
   "metadata": {},
   "outputs": [
    {
     "data": {
      "text/plain": [
       "40"
      ]
     },
     "execution_count": 362,
     "metadata": {},
     "output_type": "execute_result"
    }
   ],
   "source": [
    "len(trousers)"
   ]
  },
  {
   "cell_type": "code",
   "execution_count": 363,
   "metadata": {},
   "outputs": [],
   "source": [
    "url=[]\n",
    "for trouser in trousers:\n",
    "    source=trouser.get_attribute('src')\n",
    "    url.append(source)"
   ]
  },
  {
   "cell_type": "code",
   "execution_count": 364,
   "metadata": {},
   "outputs": [
    {
     "data": {
      "text/plain": [
       "40"
      ]
     },
     "execution_count": 364,
     "metadata": {},
     "output_type": "execute_result"
    }
   ],
   "source": [
    "len(url)"
   ]
  },
  {
   "cell_type": "code",
   "execution_count": 365,
   "metadata": {},
   "outputs": [],
   "source": [
    "import shutil\n",
    "import requests"
   ]
  },
  {
   "cell_type": "code",
   "execution_count": 366,
   "metadata": {},
   "outputs": [
    {
     "name": "stdout",
     "output_type": "stream",
     "text": [
      "downloading 1 of 40 images from page1\n",
      "downloading 2 of 40 images from page1\n",
      "downloading 3 of 40 images from page1\n",
      "downloading 4 of 40 images from page1\n",
      "downloading 5 of 40 images from page1\n",
      "downloading 6 of 40 images from page1\n",
      "downloading 7 of 40 images from page1\n",
      "downloading 8 of 40 images from page1\n",
      "downloading 9 of 40 images from page1\n",
      "downloading 10 of 40 images from page1\n",
      "downloading 11 of 40 images from page1\n",
      "downloading 12 of 40 images from page1\n",
      "downloading 13 of 40 images from page1\n",
      "downloading 14 of 40 images from page1\n",
      "downloading 15 of 40 images from page1\n",
      "downloading 16 of 40 images from page1\n",
      "downloading 17 of 40 images from page1\n",
      "downloading 18 of 40 images from page1\n",
      "downloading 19 of 40 images from page1\n",
      "downloading 20 of 40 images from page1\n",
      "downloading 21 of 40 images from page1\n",
      "downloading 22 of 40 images from page1\n",
      "downloading 23 of 40 images from page1\n",
      "downloading 24 of 40 images from page1\n",
      "downloading 25 of 40 images from page1\n",
      "downloading 26 of 40 images from page1\n",
      "downloading 27 of 40 images from page1\n",
      "downloading 28 of 40 images from page1\n",
      "downloading 29 of 40 images from page1\n",
      "downloading 30 of 40 images from page1\n",
      "downloading 31 of 40 images from page1\n",
      "downloading 32 of 40 images from page1\n",
      "downloading 33 of 40 images from page1\n",
      "downloading 34 of 40 images from page1\n",
      "downloading 35 of 40 images from page1\n",
      "downloading 36 of 40 images from page1\n",
      "downloading 37 of 40 images from page1\n",
      "downloading 38 of 40 images from page1\n",
      "downloading 39 of 40 images from page1\n",
      "downloading 40 of 40 images from page1\n"
     ]
    }
   ],
   "source": [
    "page=1\n",
    "for index, link in enumerate(url):\n",
    "    print('downloading {0} of {1} images from page1'.format(index+1, len(url)))\n",
    "    response=requests.get(link)\n",
    "    with open('assignment2/img_{0}{1}.jpeg'.format(index,page),\"wb\") as file:\n",
    "        file.write(response.content)"
   ]
  },
  {
   "cell_type": "code",
   "execution_count": 367,
   "metadata": {},
   "outputs": [],
   "source": [
    "next_page=driver.find_element_by_xpath('//*[@id=\"container\"]/div/div[3]/div[2]/div/div[2]/div[12]/div/div/nav/a[11]/span').click()\n"
   ]
  },
  {
   "cell_type": "code",
   "execution_count": 372,
   "metadata": {},
   "outputs": [],
   "source": [
    "trousers=driver.find_elements_by_xpath(\"//img[@class='_3togXc']\")"
   ]
  },
  {
   "cell_type": "code",
   "execution_count": 373,
   "metadata": {},
   "outputs": [
    {
     "data": {
      "text/plain": [
       "40"
      ]
     },
     "execution_count": 373,
     "metadata": {},
     "output_type": "execute_result"
    }
   ],
   "source": [
    "len(trousers)"
   ]
  },
  {
   "cell_type": "code",
   "execution_count": 374,
   "metadata": {},
   "outputs": [],
   "source": [
    "urls=[]\n",
    "for trouser in trousers:\n",
    "    source=trouser.get_attribute('src')\n",
    "    urls.append(source)"
   ]
  },
  {
   "cell_type": "code",
   "execution_count": 375,
   "metadata": {},
   "outputs": [
    {
     "data": {
      "text/plain": [
       "40"
      ]
     },
     "execution_count": 375,
     "metadata": {},
     "output_type": "execute_result"
    }
   ],
   "source": [
    "len(url)"
   ]
  },
  {
   "cell_type": "code",
   "execution_count": 376,
   "metadata": {},
   "outputs": [
    {
     "name": "stdout",
     "output_type": "stream",
     "text": [
      "downloading 1 of 40 images from page2\n",
      "downloading 2 of 40 images from page2\n",
      "downloading 3 of 40 images from page2\n",
      "downloading 4 of 40 images from page2\n",
      "downloading 5 of 40 images from page2\n",
      "downloading 6 of 40 images from page2\n",
      "downloading 7 of 40 images from page2\n",
      "downloading 8 of 40 images from page2\n",
      "downloading 9 of 40 images from page2\n",
      "downloading 10 of 40 images from page2\n",
      "downloading 11 of 40 images from page2\n",
      "downloading 12 of 40 images from page2\n",
      "downloading 13 of 40 images from page2\n",
      "downloading 14 of 40 images from page2\n",
      "downloading 15 of 40 images from page2\n",
      "downloading 16 of 40 images from page2\n",
      "downloading 17 of 40 images from page2\n",
      "downloading 18 of 40 images from page2\n",
      "downloading 19 of 40 images from page2\n",
      "downloading 20 of 40 images from page2\n",
      "downloading 21 of 40 images from page2\n",
      "downloading 22 of 40 images from page2\n",
      "downloading 23 of 40 images from page2\n",
      "downloading 24 of 40 images from page2\n",
      "downloading 25 of 40 images from page2\n",
      "downloading 26 of 40 images from page2\n",
      "downloading 27 of 40 images from page2\n",
      "downloading 28 of 40 images from page2\n",
      "downloading 29 of 40 images from page2\n",
      "downloading 30 of 40 images from page2\n",
      "downloading 31 of 40 images from page2\n",
      "downloading 32 of 40 images from page2\n",
      "downloading 33 of 40 images from page2\n",
      "downloading 34 of 40 images from page2\n",
      "downloading 35 of 40 images from page2\n",
      "downloading 36 of 40 images from page2\n",
      "downloading 37 of 40 images from page2\n",
      "downloading 38 of 40 images from page2\n",
      "downloading 39 of 40 images from page2\n",
      "downloading 40 of 40 images from page2\n"
     ]
    }
   ],
   "source": [
    "page=2\n",
    "for index, link in enumerate(url):\n",
    "    print('downloading {0} of {1} images from page2'.format(index+1, len(url)))\n",
    "    response=requests.get(link)\n",
    "    with open('assignment2/img_{0}{1}.jpeg'.format(index,page),\"wb\") as file:\n",
    "        file.write(response.content)"
   ]
  },
  {
   "cell_type": "code",
   "execution_count": 377,
   "metadata": {},
   "outputs": [],
   "source": [
    "next_page=driver.find_element_by_xpath('//*[@id=\"container\"]/div/div[3]/div[2]/div/div[2]/div[12]/div/div/nav/a[12]').click()"
   ]
  },
  {
   "cell_type": "code",
   "execution_count": 378,
   "metadata": {},
   "outputs": [],
   "source": [
    "trousers=driver.find_elements_by_xpath(\"//img[@class='_3togXc']\")"
   ]
  },
  {
   "cell_type": "code",
   "execution_count": 379,
   "metadata": {},
   "outputs": [
    {
     "data": {
      "text/plain": [
       "40"
      ]
     },
     "execution_count": 379,
     "metadata": {},
     "output_type": "execute_result"
    }
   ],
   "source": [
    "len(trousers)"
   ]
  },
  {
   "cell_type": "code",
   "execution_count": 380,
   "metadata": {
    "scrolled": true
   },
   "outputs": [],
   "source": [
    "urls=[]\n",
    "for trouser in trousers:\n",
    "    source=trouser.get_attribute('src')\n",
    "    urls.append(source)"
   ]
  },
  {
   "cell_type": "code",
   "execution_count": 381,
   "metadata": {},
   "outputs": [
    {
     "data": {
      "text/plain": [
       "40"
      ]
     },
     "execution_count": 381,
     "metadata": {},
     "output_type": "execute_result"
    }
   ],
   "source": [
    "len(urls)"
   ]
  },
  {
   "cell_type": "code",
   "execution_count": 382,
   "metadata": {},
   "outputs": [
    {
     "name": "stdout",
     "output_type": "stream",
     "text": [
      "downloading 1 of 40 images from page3\n",
      "downloading 2 of 40 images from page3\n",
      "downloading 3 of 40 images from page3\n",
      "downloading 4 of 40 images from page3\n",
      "downloading 5 of 40 images from page3\n",
      "downloading 6 of 40 images from page3\n",
      "downloading 7 of 40 images from page3\n",
      "downloading 8 of 40 images from page3\n",
      "downloading 9 of 40 images from page3\n",
      "downloading 10 of 40 images from page3\n",
      "downloading 11 of 40 images from page3\n",
      "downloading 12 of 40 images from page3\n",
      "downloading 13 of 40 images from page3\n",
      "downloading 14 of 40 images from page3\n",
      "downloading 15 of 40 images from page3\n",
      "downloading 16 of 40 images from page3\n",
      "downloading 17 of 40 images from page3\n",
      "downloading 18 of 40 images from page3\n",
      "downloading 19 of 40 images from page3\n",
      "downloading 20 of 40 images from page3\n",
      "downloading 21 of 40 images from page3\n",
      "downloading 22 of 40 images from page3\n",
      "downloading 23 of 40 images from page3\n",
      "downloading 24 of 40 images from page3\n",
      "downloading 25 of 40 images from page3\n",
      "downloading 26 of 40 images from page3\n",
      "downloading 27 of 40 images from page3\n",
      "downloading 28 of 40 images from page3\n",
      "downloading 29 of 40 images from page3\n",
      "downloading 30 of 40 images from page3\n",
      "downloading 31 of 40 images from page3\n",
      "downloading 32 of 40 images from page3\n",
      "downloading 33 of 40 images from page3\n",
      "downloading 34 of 40 images from page3\n",
      "downloading 35 of 40 images from page3\n",
      "downloading 36 of 40 images from page3\n",
      "downloading 37 of 40 images from page3\n",
      "downloading 38 of 40 images from page3\n",
      "downloading 39 of 40 images from page3\n",
      "downloading 40 of 40 images from page3\n"
     ]
    }
   ],
   "source": [
    "page=3\n",
    "for index, link in enumerate(url):\n",
    "    print('downloading {0} of {1} images from page3'.format(index+1, len(url)))\n",
    "    response=requests.get(link)\n",
    "    with open('assignment2/img_{0}{1}.jpeg'.format(index,page),\"wb\") as file:\n",
    "        file.write(response.content)"
   ]
  },
  {
   "cell_type": "code",
   "execution_count": 383,
   "metadata": {},
   "outputs": [],
   "source": [
    "#downloading jeans images\n",
    "\n",
    "current_page=driver.get('https://www.flipkart.com/clothing-and-accessories/bottomwear/jeans/men-jeans/pr?sid=clo,vua,k58,i51&otracker=categorytree&otracker=nmenu_sub_Men_0_Jeans')"
   ]
  },
  {
   "cell_type": "code",
   "execution_count": 384,
   "metadata": {},
   "outputs": [],
   "source": [
    "make_directory('jeans')"
   ]
  },
  {
   "cell_type": "code",
   "execution_count": 385,
   "metadata": {},
   "outputs": [],
   "source": [
    "jeans=driver.find_elements_by_xpath('//img[@class=\"_3togXc\"]')"
   ]
  },
  {
   "cell_type": "code",
   "execution_count": 386,
   "metadata": {},
   "outputs": [
    {
     "data": {
      "text/plain": [
       "40"
      ]
     },
     "execution_count": 386,
     "metadata": {},
     "output_type": "execute_result"
    }
   ],
   "source": [
    "len(jeans)"
   ]
  },
  {
   "cell_type": "code",
   "execution_count": 387,
   "metadata": {},
   "outputs": [],
   "source": [
    "url=[]\n",
    "for jean in jeans:\n",
    "    source=jean.get_attribute('src')\n",
    "    url.append(source)"
   ]
  },
  {
   "cell_type": "code",
   "execution_count": 388,
   "metadata": {},
   "outputs": [
    {
     "data": {
      "text/plain": [
       "40"
      ]
     },
     "execution_count": 388,
     "metadata": {},
     "output_type": "execute_result"
    }
   ],
   "source": [
    "len(url)"
   ]
  },
  {
   "cell_type": "code",
   "execution_count": 389,
   "metadata": {},
   "outputs": [
    {
     "name": "stdout",
     "output_type": "stream",
     "text": [
      "downloading 1 of 40 images from page1\n",
      "downloading 2 of 40 images from page1\n",
      "downloading 3 of 40 images from page1\n",
      "downloading 4 of 40 images from page1\n",
      "downloading 5 of 40 images from page1\n",
      "downloading 6 of 40 images from page1\n",
      "downloading 7 of 40 images from page1\n",
      "downloading 8 of 40 images from page1\n",
      "downloading 9 of 40 images from page1\n",
      "downloading 10 of 40 images from page1\n",
      "downloading 11 of 40 images from page1\n",
      "downloading 12 of 40 images from page1\n",
      "downloading 13 of 40 images from page1\n",
      "downloading 14 of 40 images from page1\n",
      "downloading 15 of 40 images from page1\n",
      "downloading 16 of 40 images from page1\n",
      "downloading 17 of 40 images from page1\n",
      "downloading 18 of 40 images from page1\n",
      "downloading 19 of 40 images from page1\n",
      "downloading 20 of 40 images from page1\n",
      "downloading 21 of 40 images from page1\n",
      "downloading 22 of 40 images from page1\n",
      "downloading 23 of 40 images from page1\n",
      "downloading 24 of 40 images from page1\n",
      "downloading 25 of 40 images from page1\n",
      "downloading 26 of 40 images from page1\n",
      "downloading 27 of 40 images from page1\n",
      "downloading 28 of 40 images from page1\n",
      "downloading 29 of 40 images from page1\n",
      "downloading 30 of 40 images from page1\n",
      "downloading 31 of 40 images from page1\n",
      "downloading 32 of 40 images from page1\n",
      "downloading 33 of 40 images from page1\n",
      "downloading 34 of 40 images from page1\n",
      "downloading 35 of 40 images from page1\n",
      "downloading 36 of 40 images from page1\n",
      "downloading 37 of 40 images from page1\n",
      "downloading 38 of 40 images from page1\n",
      "downloading 39 of 40 images from page1\n",
      "downloading 40 of 40 images from page1\n"
     ]
    }
   ],
   "source": [
    "page=1\n",
    "for index, link in enumerate(url):\n",
    "    print('downloading {0} of {1} images from page1'.format(index+1, len(url)))\n",
    "    response=requests.get(link)\n",
    "    with open('jeans/img_{0}{1}.jpeg'.format(index,page),\"wb\") as file:\n",
    "        file.write(response.content)\n"
   ]
  },
  {
   "cell_type": "code",
   "execution_count": 390,
   "metadata": {},
   "outputs": [],
   "source": [
    "next_page=driver.find_element_by_xpath('//*[@id=\"container\"]/div/div[3]/div[2]/div[1]/div[2]/div[12]/div/div/nav/a[11]/span').click()"
   ]
  },
  {
   "cell_type": "code",
   "execution_count": 393,
   "metadata": {},
   "outputs": [],
   "source": [
    "jeans=driver.find_elements_by_xpath('//img[@class=\"_3togXc\"]')"
   ]
  },
  {
   "cell_type": "code",
   "execution_count": 394,
   "metadata": {},
   "outputs": [],
   "source": [
    "url=[]\n",
    "for jean in jeans:\n",
    "    source=jean.get_attribute('src')\n",
    "    url.append(source)"
   ]
  },
  {
   "cell_type": "code",
   "execution_count": 395,
   "metadata": {},
   "outputs": [
    {
     "data": {
      "text/plain": [
       "40"
      ]
     },
     "execution_count": 395,
     "metadata": {},
     "output_type": "execute_result"
    }
   ],
   "source": [
    "len(url)"
   ]
  },
  {
   "cell_type": "code",
   "execution_count": 396,
   "metadata": {},
   "outputs": [
    {
     "name": "stdout",
     "output_type": "stream",
     "text": [
      "downloading 1 of 40 images from page2\n",
      "downloading 2 of 40 images from page2\n",
      "downloading 3 of 40 images from page2\n",
      "downloading 4 of 40 images from page2\n",
      "downloading 5 of 40 images from page2\n",
      "downloading 6 of 40 images from page2\n",
      "downloading 7 of 40 images from page2\n",
      "downloading 8 of 40 images from page2\n",
      "downloading 9 of 40 images from page2\n",
      "downloading 10 of 40 images from page2\n",
      "downloading 11 of 40 images from page2\n",
      "downloading 12 of 40 images from page2\n",
      "downloading 13 of 40 images from page2\n",
      "downloading 14 of 40 images from page2\n",
      "downloading 15 of 40 images from page2\n",
      "downloading 16 of 40 images from page2\n",
      "downloading 17 of 40 images from page2\n",
      "downloading 18 of 40 images from page2\n",
      "downloading 19 of 40 images from page2\n",
      "downloading 20 of 40 images from page2\n",
      "downloading 21 of 40 images from page2\n",
      "downloading 22 of 40 images from page2\n",
      "downloading 23 of 40 images from page2\n",
      "downloading 24 of 40 images from page2\n",
      "downloading 25 of 40 images from page2\n",
      "downloading 26 of 40 images from page2\n",
      "downloading 27 of 40 images from page2\n",
      "downloading 28 of 40 images from page2\n",
      "downloading 29 of 40 images from page2\n",
      "downloading 30 of 40 images from page2\n",
      "downloading 31 of 40 images from page2\n",
      "downloading 32 of 40 images from page2\n",
      "downloading 33 of 40 images from page2\n",
      "downloading 34 of 40 images from page2\n",
      "downloading 35 of 40 images from page2\n",
      "downloading 36 of 40 images from page2\n",
      "downloading 37 of 40 images from page2\n",
      "downloading 38 of 40 images from page2\n",
      "downloading 39 of 40 images from page2\n",
      "downloading 40 of 40 images from page2\n"
     ]
    }
   ],
   "source": [
    "page=2\n",
    "for index, link in enumerate(url):\n",
    "    print('downloading {0} of {1} images from page2'.format(index+1, len(url)))\n",
    "    response=requests.get(link)\n",
    "    with open('jeans/img_{0}{1}.jpeg'.format(index,page),\"wb\") as file:\n",
    "        file.write(response.content)"
   ]
  },
  {
   "cell_type": "code",
   "execution_count": 397,
   "metadata": {},
   "outputs": [],
   "source": [
    "next_page=driver.find_element_by_xpath('//*[@id=\"container\"]/div/div[3]/div[2]/div[1]/div[2]/div[12]/div/div/nav/a[12]').click()"
   ]
  },
  {
   "cell_type": "code",
   "execution_count": 400,
   "metadata": {},
   "outputs": [],
   "source": [
    "jeans=driver.find_elements_by_xpath('//img[@class=\"_3togXc\"]')"
   ]
  },
  {
   "cell_type": "code",
   "execution_count": 401,
   "metadata": {},
   "outputs": [],
   "source": [
    "url=[]\n",
    "for jean in jeans:\n",
    "    source=jean.get_attribute('src')\n",
    "    url.append(source)"
   ]
  },
  {
   "cell_type": "code",
   "execution_count": 402,
   "metadata": {},
   "outputs": [
    {
     "name": "stdout",
     "output_type": "stream",
     "text": [
      "downloading 1 of 40 images from page3\n",
      "downloading 2 of 40 images from page3\n",
      "downloading 3 of 40 images from page3\n",
      "downloading 4 of 40 images from page3\n",
      "downloading 5 of 40 images from page3\n",
      "downloading 6 of 40 images from page3\n",
      "downloading 7 of 40 images from page3\n",
      "downloading 8 of 40 images from page3\n",
      "downloading 9 of 40 images from page3\n",
      "downloading 10 of 40 images from page3\n",
      "downloading 11 of 40 images from page3\n",
      "downloading 12 of 40 images from page3\n",
      "downloading 13 of 40 images from page3\n",
      "downloading 14 of 40 images from page3\n",
      "downloading 15 of 40 images from page3\n",
      "downloading 16 of 40 images from page3\n",
      "downloading 17 of 40 images from page3\n",
      "downloading 18 of 40 images from page3\n",
      "downloading 19 of 40 images from page3\n",
      "downloading 20 of 40 images from page3\n",
      "downloading 21 of 40 images from page3\n",
      "downloading 22 of 40 images from page3\n",
      "downloading 23 of 40 images from page3\n",
      "downloading 24 of 40 images from page3\n",
      "downloading 25 of 40 images from page3\n",
      "downloading 26 of 40 images from page3\n",
      "downloading 27 of 40 images from page3\n",
      "downloading 28 of 40 images from page3\n",
      "downloading 29 of 40 images from page3\n",
      "downloading 30 of 40 images from page3\n",
      "downloading 31 of 40 images from page3\n",
      "downloading 32 of 40 images from page3\n",
      "downloading 33 of 40 images from page3\n",
      "downloading 34 of 40 images from page3\n",
      "downloading 35 of 40 images from page3\n",
      "downloading 36 of 40 images from page3\n",
      "downloading 37 of 40 images from page3\n",
      "downloading 38 of 40 images from page3\n",
      "downloading 39 of 40 images from page3\n",
      "downloading 40 of 40 images from page3\n"
     ]
    }
   ],
   "source": [
    "page=3\n",
    "for index, link in enumerate(url):\n",
    "    print('downloading {0} of {1} images from page3'.format(index+1, len(url)))\n",
    "    response=requests.get(link)\n",
    "    with open('jeans/img_{0}{1}.jpeg'.format(index,page),\"wb\") as file:\n",
    "        file.write(response.content)"
   ]
  },
  {
   "cell_type": "code",
   "execution_count": null,
   "metadata": {},
   "outputs": [],
   "source": []
  }
 ],
 "metadata": {
  "kernelspec": {
   "display_name": "Python 3",
   "language": "python",
   "name": "python3"
  },
  "language_info": {
   "codemirror_mode": {
    "name": "ipython",
    "version": 3
   },
   "file_extension": ".py",
   "mimetype": "text/x-python",
   "name": "python",
   "nbconvert_exporter": "python",
   "pygments_lexer": "ipython3",
   "version": "3.6.10"
  }
 },
 "nbformat": 4,
 "nbformat_minor": 4
}
