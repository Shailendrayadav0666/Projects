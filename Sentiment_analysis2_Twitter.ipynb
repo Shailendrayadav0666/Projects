{
 "cells": [
  {
   "cell_type": "code",
   "execution_count": 4,
   "metadata": {},
   "outputs": [],
   "source": [
    "import string\n",
    "from collections import Counter\n",
    "\n",
    "import matplotlib.pyplot as plt"
   ]
  },
  {
   "cell_type": "code",
   "execution_count": 9,
   "metadata": {},
   "outputs": [
    {
     "name": "stdout",
     "output_type": "stream",
     "text": [
      "Collecting GetOldTweets3\n",
      "  Downloading https://files.pythonhosted.org/packages/ed/f4/a00c2a7c90801abc875325bb5416ce9090ac86d06a00cc887131bd73ba45/GetOldTweets3-0.0.11-py3-none-any.whl\n",
      "Collecting pyquery>=1.2.10 (from GetOldTweets3)\n",
      "  Downloading https://files.pythonhosted.org/packages/78/43/95d42e386c61cb639d1a0b94f0c0b9f0b7d6b981ad3c043a836c8b5bc68b/pyquery-1.4.1-py2.py3-none-any.whl\n",
      "Requirement already satisfied: lxml>=3.5.0 in c:\\programdata\\anaconda3\\lib\\site-packages (from GetOldTweets3) (4.4.1)\n",
      "Collecting cssselect>0.7.9 (from pyquery>=1.2.10->GetOldTweets3)\n",
      "  Downloading https://files.pythonhosted.org/packages/3b/d4/3b5c17f00cce85b9a1e6f91096e1cc8e8ede2e1be8e96b87ce1ed09e92c5/cssselect-1.1.0-py2.py3-none-any.whl\n",
      "Installing collected packages: cssselect, pyquery, GetOldTweets3\n",
      "Successfully installed GetOldTweets3-0.0.11 cssselect-1.1.0 pyquery-1.4.1\n"
     ]
    }
   ],
   "source": [
    "!pip install GetOldTweets3\n"
   ]
  },
  {
   "cell_type": "code",
   "execution_count": 38,
   "metadata": {},
   "outputs": [],
   "source": [
    "def get_tweets():\n",
    "    import GetOldTweets3 as got #Library used to scrape data from Twitter without any other tools\n",
    "    tweetCriteria=got.manager.TweetCriteria().setQuerySearch('#tiktokban') \\\n",
    "        .setSince(\"2020-06-20\") \\\n",
    "        .setUntil(\"2020-06-30\") \\\n",
    "        .setMaxTweets(100)\n",
    "    #Creation of liist which contains all the tweets\n",
    "    tweets=got.manager.TweetManager.getTweets(tweetCriteria)\n",
    "    #Creating list of chosen data\n",
    "    text_tweets=[[tweet.text]for tweet in tweets]\n",
    "    return text_tweets\n",
    "    \n",
    "    "
   ]
  },
  {
   "cell_type": "code",
   "execution_count": 39,
   "metadata": {},
   "outputs": [],
   "source": [
    "#reading text file\n",
    "text=\"\"\n",
    "text_tweets=get_tweets()\n",
    "\n",
    "length=len(text_tweets)\n",
    "for i in range(0, length):\n",
    "    text=text_tweets[i][0]+ \" \" + text\n",
    "    \n",
    "#converting to lower_case\n",
    "lower_case=text.lower()\n",
    "\n",
    "#removing punctuations\n",
    "cleaned_text=lower_case.translate(str.maketrans('','',string.punctuation))\n",
    "\n",
    "#splitting text into words\n",
    "tokenized_words=cleaned_text.split()"
   ]
  },
  {
   "cell_type": "code",
   "execution_count": 40,
   "metadata": {},
   "outputs": [
    {
     "data": {
      "text/plain": [
       "[['भारत की डिजिटल सिक्योरिटी इस कदम से मजबूत होगी और चीनी हैकर्स को इससे बड़ी चोट होगी #59ChineseApps #TikTok #tiktokbanindia #tiktokban #ChineseProductsInDustbin'],\n",
       " [\"PC Gamers Assemble! @IntelIndia &amp; @Dell_IN have chance for you to grab a key to the closed PC beta weekend for Marvel's Avengers!\"],\n",
       " ['#regalo #barcelona #Maroc #Travel #trip #lovelyday #tiktokteens #tiktokers #tiktoktweets #TikTokgirl #tiktokban #Spain #cute #Marrakech #LoveFromCanada #Barcellona #Madrid #Dubai #Marruecos'],\n",
       " ['Tiktok - one most used app in India got banned by Indian government! Now people started to hunt for a app which is similar to tiktok... We got so many tiktok stars once after it launched! Hope! We will find better one soon... #tiktokban #India #tiktokstars'],\n",
       " ['Síguenos para mas contenido de: #tiktokers #tiktokteens #tiktokban '],\n",
       " [\"BREAKING GODDAMN NEWS: I'M SLIGHTLY FUCKING RICHER, PAL! HAHAHAHAAAAAA! #headshot #tiktokban\"],\n",
       " ['#tiktokbanindia lo ho he gaya... #tiktokban #Chineseapps #59Chinese #DigitalStrike #tiktokbanned #ChineseAppBlocked #carryminati #ShareIt #ModiBanChiniApps #PUBGMOBILE #banchineseapp'],\n",
       " ['This is great news.. had to be done.. India and the US leading by example. No place for companies and services that do not respect user data and user privacy.. certainly not the ones that compromise national sovereignty!!#tiktokban #tiktokbanindia'],\n",
       " ['Best #atheism argument ever. \"There are 3,000 gods and Most folk don\\'t believe in 2999. I just don\\'t believe in 3000. I don\\'t believe in 2999 either. #Christian #tiktokban '],\n",
       " ['Spicy Masala Egg Fry | Yummy Crispy Egg Fry | ऊँगली चाटते रह जाओगे आप जब जानोगे इस अंडा फ्राई का राज https://bit.ly/3iowmSC #Cooking #IndiaChinaFaceOff #IndiaDemandsCBIForSSR #India #biharelection2020 #BiharCoronaUpdate #govtjobs #tiktokbanindia #tiktokban #tiktokbaninindia'],\n",
       " ['Jamshoro Grid Fire, Closest View, taken from top of under construction chimney near 500KV . #Jamshoro #Hyderabad #Sindh #Karachi #Pakistan #KarachiTerrorAttack #KarachiTerroristAttack #karachiblackout #ImranKhanDestroyingPakistan #ImranBinLaden #Covid_19 #tiktokban #COVID19 https://twitter.com/AbbasWaseem14/status/1277738135556849664'],\n",
       " ['Arey humne to sirf account delete karne ko bola tha Great job @mygovindia @PMOIndia @narendramodi @narendramodi_in @AmitShah @MIB_India @BJP4India #tiktokbanindia #tiktokbanned #tiktokban #Chineseappbanned #IndiaBansChineseApps'],\n",
       " [' #YouTube vs #tiktok k time modi ji YouTube Ki team me the aaj pta chla #tiktokban #59Chinese #lockdownextension @CarryMinati @ashchanchlani @ElvishYadav @diljitdosanjh @narendramodi @Bhuvan_Bam @TechnicalGuruji @YouTubeIndia @YouTubeFanFest'],\n",
       " [\"Leftist, Congressi, China Agents r saying #TikTok donated 30 crores to #PMCARES fund hence it shouldn't be on ban list or when is PM refunding money. They r used to commission agent PM who does job in exchange of commission. #tiktokbanindia #tiktokban\"],\n",
       " ['One of the Most Happy Days !! Watch Now #Fiji #TikTok Roast !! #Subscribe Now to Support #tiktokban .. #Chineseapps #tiktokbanindia #shein #carryminati #59Chinese #Unlock2'],\n",
       " ['Alternatives to #59Chinese apps https://zoho.social/2020/06/alternatives-to-59-chinese-apps-part-1-3 #tiktokban #tiktokbanned #tiktokbanindia #ShareIt #ChineseAppBlocked'],\n",
       " ['China Modi Ji Aapne TikTok Band Kar Diya To 30,Cr B Return Kardo Modi Ji Aapne 30,Cr Donations Diya Tha Isliya Bad Karna Pada ? #carryminati #59Chinese #tiktokbanindia #Chineseapps #ChineseAppBlocked #tiktokbanned #tiktokban #banchineseapp #BanTikTokInIndia'],\n",
       " ['Running a tad bit behind tonight because @BigBoy_Beller is a big DUMB IDIOT Should be live by 6:30pm Central Time @Zorb_Rts @Mixr_RT_Makayla @sme_rt @SupportStreamz @SmallUTubers_ #twitch #tiktokban #youtube #comedy #videogames'],\n",
       " ['First, Army killing them - On ground attack Next the ministries in cancelling the contracts - Business Attack Now #59AppsBanned - Digital attack India se panga mat lena. #tiktokban'],\n",
       " ['No @ThePrintIndia trash on the #Tiktokban? Hope it’s not 59 aps and 1 Chinese propaganda channel in India that is banned '],\n",
       " ['Finally #tiktokban in India..Now Faisuuuuu Didi is No more an \"inphulanser\".. #tiktokbaninindia'],\n",
       " [\"PC Gamers Assemble! @IntelIndia &amp; @Dell_IN have chance for you to grab a key to the closed PC beta weekend for Marvel's Avengers!\"],\n",
       " [\"had to put on the glasses to see what's up w you i see you staring :) dm daddy #Fortnite #TikTok #tiktokban (don't mind the tags lmfao they're trending) \"],\n",
       " ['The last line - “Of course the app was only a manifestation of the existing rot”! While #tiktokban will work for Indians privacy but it won’t protect against your own stupidity. Stop the mujra-kotha gang now. Talk to children, educate them on the pitfalls. Jai Hind. '],\n",
       " [' #TikTokBan #Baashha https://twitter.com/ashwinravi99/status/1277628247950286850'],\n",
       " ['2016 - Surgical strike 2019 - Air strike 2020 - #DigitalStrike Definitely a deserved pm for india... #TikTok #tiktokbanindia #tiktokban #tiktokbaninindia'],\n",
       " ['If you use twitter and not tweet in this topic Bhai maza agya.. #muzraban #tiktokban #RIPTiktok'],\n",
       " ['Tiktokers After Tiktok Ban Watch video #tiktokbanindia #TikTok #tiktokbaninindia #tiktokbanindia #tiktokindia #tiktokban #TiktokBan #TiktokBanInIndia #TiktokBanned #Tiktok'],\n",
       " ['A lot of social media influencers and celebrities became unemployed overnight. 2020 is seriously the worst. What am I supposed to do with my cringe content cravings now? #TikTokBan #ModiTheMan'],\n",
       " ['RIP Tiktok Ab ye Mujra karne wale Tiktokers ka kya hoga #TiktokBan #TiktokBanInIndia #TiktokBanned #Tiktok https://m.youtube.com/watch?v=Tjo6BCMI568'],\n",
       " ['RIP Tiktok Ab ye Mujra karne wale Tiktokers ka kya hoga #TiktokBan #TiktokBanInIndia #TiktokBanned #Tiktok https://m.youtube.com/watch?v=Tjo6BCMI568'],\n",
       " ['India celebrates ban Tiktok with other 51 Chinese app in india which is trending in india but this news channel might be not get the latest update. #TikTok #tiktokbanindia #tiktokban #tiktokteens #tiktokbaned'],\n",
       " [\"Dear, it's not just apps. Think how much they are going to lose. Revenue of #tiktokban alone $200m per year. At least 25% by Indians. Now calculate for all the #59Chineseapps #DigitalStrike #DigitalAirStrike #ChineseAppBlocked\"],\n",
       " [\"Jamshoro Grid Station on fire, and apparently all of Jamshoro and Hyderabad's down with electricity. #Jamshoro #Hyderabad #electricity #gridstation #wapda #Karachi #KarachiTerrorAttack #DehshatGardonKeYar_Ghadaar #lockdownextension #headshot #tiktokban #ChineseAppBlocked\"],\n",
       " ['Thank you @narendramodi @BJP4India #ChineseAppBlocked #tiktokban'],\n",
       " ['Government ban on tiktok and many more application @ElvishYadav @CarryMinati @lakshayhere @SamratBhai31 #tiktokbanindia #tiktokbanned #tiktokban #tiktokbaninindia'],\n",
       " ['#TikTok #tiktokbanindia #Chineseapps #59Chinese #carryminati #SonamWangchuk #DigitalStrike #ChineseAppBlocked #Chineseappbanned #ChineseAppBan #DigitalSurgicalStrike #DigitalAirStrike #tiktokindia #tiktokbaninindia #tiktokban #CKMKB #59Chineseapps'],\n",
       " ['Stop shit talk . @strattonsocial @madovermarketing_mom @Social_Samosa @MadOMarketing @SDissect . #BoycottChina #tiktokbanindia #tiktokbaninindia #Chineseapps #Chineseappbanned #ChineseAppsBannedInIndia #topicalpost #tiktokban #tiktokindia #TikTok'],\n",
       " ['Secret Behind TikTok Viral Magic Trick Is Revealed And You Will Be Shocked To Learn How Easy Is To Fool People On TikTok - https://dazlisha.com/secret-behind-tiktok-viral-magic-trick-is-revealed/ #TikTok #tiktokbanindia #tiktokbanned #tiktokban #Video #Viral #tricks'],\n",
       " ['Thoughts and prayers for all Tiktok stars. Condolences #TikTok #tiktokbanindia #tiktokban '],\n",
       " ['Ab ye afwa koun faila raha hai ki Modi~G isay dekhne ke baad #tiktokban kar diya India mei. '],\n",
       " ['Yeah. They could cured islam(mental disease) using this fund. #tiktok #tiktokbanindia #tiktokbanned #tiktokban '],\n",
       " [\"PC Gamers Assemble! @IntelIndia &amp; @Dell_IN have chance for you to grab a key to the closed PC beta weekend for Marvel's Avengers!\"],\n",
       " ['#TikTok #tiktokbanindia #Chineseapps #59Chinese #carryminati #SonamWangchuk #DigitalStrike #ChineseAppBlocked #Chineseappbanned #ChineseAppBan #DigitalSurgicalStrike #DigitalAirStrike #tiktokindia #tiktokbaninindia #tiktokban '],\n",
       " ['Hope nobody goes to court to get these 59 apps ban revoked. #TikTokBan'],\n",
       " ['Listen to the most recent episode of my podcast: Body Scan & running river meditation https://anchor.fm/jimrauth/episodes/Body-Scan--running-river--meditation-eg0dqe #denver #tiktokban #anxietyrelief #depressed #DepressionIsReal #lockdownextension #Meditation #usa #california #detroit #Michigan #Minneapolis #Minnesota #chicago'],\n",
       " [\"Tiktok is banned in India so why it's not possible to banned in Pakistan.There is a huge need of educational apps in Pakistan instead of dancing apps. #tiktokban #tiktokbanindia\"],\n",
       " ['Why is this app still available on play store. #TikTok #tiktokbanindia #tiktokban '],\n",
       " ['After banning tiktok in India, downloads of VPN will surge. #tiktokban #tiktokbanindia'],\n",
       " ['Bharti Hukomat Ne Cheen Se Taluq Rakhne Wali #TickTok Samait 59 Mobile Applications Pr Pabandi Lagadi, Bharti Media #tiktokbanindia #tiktokban #tiktokbanned'],\n",
       " ['Ban tiktok otherwise ... Watch https://youtu.be/9TWu31C9Iic #tiktokbanindia #lockdownextension #tiktokban'],\n",
       " ['After #tiktokbanindia Faisu is ready for a new work. @lakshayhere @ElvishYadav #TikTok #tiktokban #Chineseapps #carryminati'],\n",
       " ['https://titbitsinplace.wordpress.com/2020/06/16/black-lives-matter/ Read it #Reading #Trump2020LandslideVictory #TrumpRallyFail #AllLivesMatter #BlackTransLivesMatter #tiktokbaninindia #tiktokban #tiktokbanindia #TrumpsCoronavirusRally'],\n",
       " [\"The news of Tik tok's death is truly Happiest in 2020. Don't condolences to his family, May Tiktok soul find eternal peace. Rest in Peace BC #RIPTiktok #TikTok #tiktokban #ChineseProductsInDustbin #ChineseAppBlocked #Chineseapps #carrykajawaab #carryminatiroast #carryminati\"],\n",
       " ['https://titbitsinplace.wordpress.com/2020/06/16/black-lives-matter/ Read it #Reading #Trump2020LandslideVictory #TrumpRallyFail #AllLivesMatter #BlackTransLivesMatter #tiktokbaninindia #tiktokban #tiktokbanindia #TrumpsCoronavirusRally'],\n",
       " ['#TikTok #tiktokban indian tiktokers rn: '],\n",
       " ['https://titbitsinplace.wordpress.com/2020/06/16/black-lives-matter/ Read it #Reading #Trump2020LandslideVictory #TrumpRallyFail #AllLivesMatter #BlackTransLivesMatter #tiktokbaninindia #tiktokban #tiktokbanindia #TrumpsCoronavirusRally'],\n",
       " ['#tiktokban #ChinaAppBan #RACIST #SPYAPP #STAYWOKE'],\n",
       " [\"These Chinese apps, that turn intelligent people into complete pricks, while undermining foreign nations' national security for #CCP ops, should be banned in every Democratic nation to be fair. #tiktokban #COVIDIOTS #COVID19 #BLMTerrorists\"],\n",
       " ['Ab to wo bhi story dal ree hai Yeah finally #tiktokban Jo din ki 5-10 video story dalte hai #BanTikTokInIndia'],\n",
       " ['#India did great to block vicious apps like #TikTok and #WeChat and the should be banned also in #USA and the rest of the free world! @realDonaldTrump #IndiaWillPunishChina #tiktokbanindia #tiktokbanned #tiktokbaninindia #tiktokban #tiktokteens #BanChina #banchineseapp'],\n",
       " ['I am so much addicted to tiktok, that when a some cool thing happens in real life, \"I am a rider, provider\" plays in my head. #tiktokban'],\n",
       " ['Without Tiktok Life #tiktokbanindia #TikTok #tiktokban '],\n",
       " [\"PC Gamers Assemble! @IntelIndia &amp; @Dell_IN have chance for you to grab a key to the closed PC beta weekend for Marvel's Avengers!\"],\n",
       " ['Here are some well researched alternatives to Chinese Apps (Part 2/2) #ChineseAppsBlocked #59Chineseapps #carryminati #PUBG #ChineseProductsInDustbin #Chineseappbanned #tiktokbanindia #TikTok #tiktokbanned #tiktokban #DigitalSurgicalStrike #CKMKB #ShareIt #DigitalStrikeOnChina'],\n",
       " ['This is what we’ve become! God help us! #tiktokban #2020Elections #IndependenceDay #rainbow #America #ProudAmericanCitizen '],\n",
       " ['Tik Tok Banned in India #TikTok #tiktokbanindia #tiktokbanned #tiktokban #tiktokbaninindia #tiktokindia #tiktokbaned #TiktokBannedInIndia #tiktokvideo #tiktokfunny #BoycottChineseApps #BoycottChina #BoycottChineseProducts #BoycottChineseApp #Chineseapps #ChineseAppBlocked'],\n",
       " [\"Searched for #TikTok on #PlayStore amd here's the result #TikTok #tiktokbanindia #tiktokban #tiktokbanned\"],\n",
       " ['ले..... इनका भी पॉकेट मनी बंद हो गया #tiktokban'],\n",
       " ['https://www.youtube.com/watch?v=LZIwJ9bO39A isne pure china ki kehke leli. This guy ROASTED China Like a Boss #DigitalAirStrike #ModiBanChiniApps #TikTok #tiktokban #tiktokbanindia #ChineseProductsInDustbin #ChineseAppBlocked #ChineseAppsBan #59Chinese #59Chineseapps #HindiChiniByeBye'],\n",
       " ['#TikTok आज भारत मे बहुत से लोग फिर से बेरोजगार हो गए सुना है #TikTok सहित 59 एप्स बेन हो गए है।। अब इन नचईयों का क्या होगा?? #tiktokbanindia #tiktokbanned #tiktokban #tiktokindia'],\n",
       " ['#TikTok अब ये खबर कौन फैला रहा की टिकटॉक को इसलिये बैन किया गया है, ताकि कुछ लोग कागज़ ढूंढने के लिए टाइम निकाल ले #tiktokbanned #tiktokban'],\n",
       " ['Here are some well researched alternatives to Chinese Apps (Part 1/2) #ChineseAppsBlocked #59Chinese #59Chineseapps #carryminati #PUBG #ChineseProductsInDustbin #DigitalAirStrike #Chineseappbanned #tiktokbanindia #TikTok #tiktokbanned #tiktokban #CKMBK #ShareIt #DigitalStrike'],\n",
       " ['Nachenge sari sari raat #RIPMUJRAPUR #carryminati #tiktokbanindia #tiktokbaninindia #tiktokbanned #tiktokban '],\n",
       " ['Shame shame @PMOIndia There is no power on earth that can undo Pakistan &lt;3 #KarachiStockExcahnge #Karachi #KarachiTerroristAttack #IndianArmy #tiktokban #IndiaDemandsCBIForSSR #ChineseAppBlocked #China'],\n",
       " ['@CarryMinati , youtubers, भारत के सभ्य लोग, इत्यादि के घरों में आज हर्षोउल्लास का माहौल और TIKTOKERS (@TikTok_IN ) से सिर्फ एक सवाल! #tiktokbanindia #tiktokbanned #tiktokban #TikTok'],\n",
       " [' FLASH - L\\'#Inde a banni 59 applications mobiles chinoises, dont #Tiktok et #Wechat, citant des \"raisons de sécurité\". Le pays accuse ces applications de \"porter atteinte à la souveraineté et l\\'intégrité du pays, ainsi qu\\'à sa défense\". (CNA) #Chine #59Chinese #tiktokban'],\n",
       " ['#MobileLegendsBangBang #MobileLegends #shein #59Chinese #tiktokbanindia #ChineseAppBlocked #ChineseAppBlocked #tiktokban #Chineseapps #Chineseapps'],\n",
       " ['13 million people lost their mujra jobs. #ChineseAppsBanned #tiktokban #tiktokbanindia #tiktokbanned #tiktokindia #chineseapp #ChineseAppBlocked #DigitalStrike'],\n",
       " ['Die — relation war auch schon mal besser. #tiktokban'],\n",
       " ['Tiktok must be thinking donating 30 crores to PM CARES fund was the worst marketing decision. #TikTok #carryminati #59Chinese #tiktokbanindia #Chineseapps #tiktokban #shein #tiktokban'],\n",
       " ['Now that TikTok is finally banned by our government, there’s only one thing on my mind.. Ab yeh influencers/models/instagram celebrities kaha mujra karenge? #tiktokbanindia #tiktokbanned #tiktokban'],\n",
       " ['मनसा चिन्तितं कार्यं वाचा नैव प्रकाशयेत्। मन्त्रेण रक्षयेद् गूढं कार्य चापि नियोजयेत् ॥ #tiktokbanindia #tiktokbanned #tiktokban #DigitalStrike #PMNationalAddress @Aabhas24 @subhash_kak @TIinExile'],\n",
       " ['Samsung envisions creating a world in which its technology and innovative know-how are used to provide quality education for young people everywhere, regardless of their circumstances #EnablingPeople'],\n",
       " ['Continue continue please, dont stop this we want 400+ in 2024 #tiktokbanindia #tiktokbanned #tiktokban'],\n",
       " ['#tiktokbanindia #tiktokban TikTok to Indian govt Now that I m banned give me back my 100 crore that I donated to PM care fund Govt - '],\n",
       " ['Finally #TikTok Is banned in #India!! Rip Indian Celebrity Tiktikis #tiktokbanindia #tiktokban '],\n",
       " ['After #tiktokban and 58 other apps. Le pubg: '],\n",
       " ['Ab Sawaal yeh paida hota hai ki jo “INDIAN tiktok stars” the woh kya INDIA ke liye social media se TIKTOK videos nikalenge ? #TikTok #tiktokbanindia #tiktokbanned #tiktokban #tiktokindia #tiktokbaninindia #tiktokers'],\n",
       " ['#tiktok #tiktokbanindia #tiktokbanned #tiktokban'],\n",
       " [\"Modi strikes back by taking .... No no no No it's not #Ladakh but by #tiktokban\"],\n",
       " ['Ye screen dekh ke he #TikTok stars mein mein lag jayegi. I can install it because I am in not in India, but still I won\\'t install it. Rated it as \"bullshit app\" #tiktokbanindia #tiktokbaninindia #tiktokban #tiktokers #tiktoktweets #ChineseAppBlocked #TikTok #tiktokban '],\n",
       " ['Mein toh Yeh soch raha hoon ki unka kya hoga jinke Bio mein Tik Tok star likha tha ! #tiktokbanindia #TikTok #tiktokbanned #tiktokban #carryminati #chinaindiaborder'],\n",
       " ['#tiktokbanindia #59Chinese #tiktokban #Chineseappbanned News : Government has banned Tiktok **lee TikTokers :'],\n",
       " ['A farmer from Ladakh *Yangdoo Sonam* makes an appeal to GOI to take coercive action to save #Ladakh. Heart Breaking to hear his painful appeal. He says chinese have intruded our borders, While GOI is in complete denial mode. Shame #ModiXi #DigitalStrike #tiktokban wont work '],\n",
       " ['This is one of the reason for #tiktokbanindia . People like him who try to just gain undue attention by posting any bullshit thing. He has 13.5 million but now of no use RIP #tiktokban #tiktokers #ChineseAppBlocked #tiktokbanindia #tiktoktweets'],\n",
       " ['Bhakts still believing something great has been done the same way they did for demonetisation #BJPBetraysOurJawans #ChineseSpokieModi #ModiSurrendersGalwanValley #tiktokban #TikTok #tiktokbanindia'],\n",
       " ['*chikchok the tiktok banned* Le chapri nibbas and nibbis Ab mai status kaise dalega re #tiktok #tiktokban #tiktokbaninindia #tiktokbanned #tiktok'],\n",
       " ['Ab Indian tiktokers ka kya hoga. Acha hai khatm ho. #tiktokban #tiktokbanindia'],\n",
       " ['Chala rojulu thavrtha oka manchi mata vinna #tiktokban #tiktokbanindia #tiktokbanned #BanTikTokInIndia #GovtofIndia #tiktokers #tiktokindia']]"
      ]
     },
     "execution_count": 40,
     "metadata": {},
     "output_type": "execute_result"
    }
   ],
   "source": [
    "#print texts\n",
    "text_tweets"
   ]
  },
  {
   "cell_type": "code",
   "execution_count": 41,
   "metadata": {},
   "outputs": [],
   "source": [
    "from nltk.corpus import stopwords\n",
    "stop_words=stopwords"
   ]
  },
  {
   "cell_type": "code",
   "execution_count": 42,
   "metadata": {},
   "outputs": [],
   "source": [
    "stop_words = [\"i\", \"me\", \"my\", \"myself\", \"we\", \"our\", \"ours\", \"ourselves\", \"you\", \"your\", \"yours\", \"yourself\",\n",
    "              \"yourselves\", \"he\", \"him\", \"his\", \"himself\", \"she\", \"her\", \"hers\", \"herself\", \"it\", \"its\", \"itself\",\n",
    "              \"they\", \"them\", \"their\", \"theirs\", \"themselves\", \"what\", \"which\", \"who\", \"whom\", \"this\", \"that\", \"these\",\n",
    "              \"those\", \"am\", \"is\", \"are\", \"was\", \"were\", \"be\", \"been\", \"being\", \"have\", \"has\", \"had\", \"having\", \"do\",\n",
    "              \"does\", \"did\", \"doing\", \"a\", \"an\", \"the\", \"and\", \"but\", \"if\", \"or\", \"because\", \"as\", \"until\", \"while\",\n",
    "              \"of\", \"at\", \"by\", \"for\", \"with\", \"about\", \"against\", \"between\", \"into\", \"through\", \"during\", \"before\",\n",
    "              \"after\", \"above\", \"below\", \"to\", \"from\", \"up\", \"down\", \"in\", \"out\", \"on\", \"off\", \"over\", \"under\", \"again\",\n",
    "              \"further\", \"then\", \"once\", \"here\", \"there\", \"when\", \"where\", \"why\", \"how\", \"all\", \"any\", \"both\", \"each\",\n",
    "              \"few\", \"more\", \"most\", \"other\", \"some\", \"such\", \"no\", \"nor\", \"not\", \"only\", \"own\", \"same\", \"so\", \"than\",\n",
    "              \"too\", \"very\", \"s\", \"t\", \"can\", \"will\", \"just\", \"don\", \"should\", \"now\"]"
   ]
  },
  {
   "cell_type": "code",
   "execution_count": 43,
   "metadata": {},
   "outputs": [],
   "source": [
    "final_words=[word for word in tokenized_words if word not in stop_words]"
   ]
  },
  {
   "cell_type": "code",
   "execution_count": 44,
   "metadata": {},
   "outputs": [
    {
     "name": "stdout",
     "output_type": "stream",
     "text": [
      "Counter({' happy': 2, ' sad': 1, ' free': 1, ' lost': 1, ' singled out': 1, ' surprise': 1, ' codependent': 1, ' alone': 1})\n"
     ]
    }
   ],
   "source": [
    "emotion_list=[]\n",
    "with open('D:/New Folder (2)/emotions.txt','r')as file:\n",
    "    for line in file:\n",
    "        clear_line=line.replace('\\n','').replace(',','').replace(\"'\",'').strip()\n",
    "        word, emotion=clear_line.split(':')\n",
    "        if word in final_words:\n",
    "            emotion_list.append(emotion)\n",
    "            \n",
    "            \n",
    "w=Counter(emotion_list)\n",
    "print(w)"
   ]
  },
  {
   "cell_type": "code",
   "execution_count": 45,
   "metadata": {},
   "outputs": [
    {
     "data": {
      "image/png": "[encoded data removed]",
      "text/plain": [
       "<Figure size 432x288 with 1 Axes>"
      ]
     },
     "metadata": {
      "needs_background": "light"
     },
     "output_type": "display_data"
    }
   ],
   "source": [
    "fig, ax1=plt.subplots()\n",
    "ax1.bar(w.keys(),w.values())\n",
    "fig.autofmt_xdate()\n",
    "plt.savefig('graph.png')\n",
    "plt.show()"
   ]
  },
  {
   "cell_type": "code",
   "execution_count": null,
   "metadata": {},
   "outputs": [],
   "source": []
  }
 ],
 "metadata": {
  "kernelspec": {
   "display_name": "Python 3",
   "language": "python",
   "name": "python3"
  },
  "language_info": {
   "codemirror_mode": {
    "name": "ipython",
    "version": 3
   },
   "file_extension": ".py",
   "mimetype": "text/x-python",
   "name": "python",
   "nbconvert_exporter": "python",
   "pygments_lexer": "ipython3",
   "version": "3.7.4"
  }
 },
 "nbformat": 4,
 "nbformat_minor": 2
}
